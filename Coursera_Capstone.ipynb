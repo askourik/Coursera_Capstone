{
 "cells": [
  {
   "cell_type": "markdown",
   "id": "d0063f0f-1d80-4fcc-8d40-453ca7864d46",
   "metadata": {},
   "source": [
    "<H1>Coursera_Capstone</H1>"
   ]
  },
  {
   "cell_type": "code",
   "execution_count": 1,
   "id": "9480c422-6da9-48a1-870e-ba7dceb10ba2",
   "metadata": {},
   "outputs": [
    {
     "name": "stdout",
     "output_type": "stream",
     "text": [
      "Hello Capstone Project Course!\n"
     ]
    }
   ],
   "source": [
    "import pandas as pd\n",
    "import numpy as np\n",
    "print(\"Hello Capstone Project Course!\")"
   ]
  },
  {
   "cell_type": "code",
   "execution_count": null,
   "id": "c9668bd2-cfa5-43a2-a083-33ea187dc53d",
   "metadata": {},
   "outputs": [],
   "source": []
  }
 ],
 "metadata": {
  "kernelspec": {
   "display_name": "Python",
   "language": "python",
   "name": "conda-env-python-py"
  },
  "language_info": {
   "codemirror_mode": {
    "name": "ipython",
    "version": 3
   },
   "file_extension": ".py",
   "mimetype": "text/x-python",
   "name": "python",
   "nbconvert_exporter": "python",
   "pygments_lexer": "ipython3",
   "version": "3.6.13"
  }
 },
 "nbformat": 4,
 "nbformat_minor": 5
}
